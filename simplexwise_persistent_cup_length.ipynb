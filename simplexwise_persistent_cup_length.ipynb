{
  "cells": [
    {
      "cell_type": "markdown",
      "metadata": {
        "id": "bD7AU_tbN24T"
      },
      "source": [
        "# Simplexwise persistent cup length\n",
        "\n",
        "Our implementation of the persistent cup length algorithm for simplexwise filtrations works with filtrations created with [dionysus](https://www.mrzv.org/software/dionysus/)."
      ]
    },
    {
      "cell_type": "code",
      "execution_count": null,
      "metadata": {
        "colab": {
          "base_uri": "https://localhost:8080/"
        },
        "id": "jBjfPl1EocDU",
        "outputId": "ebb064d9-848d-476d-884c-4ff240716df0"
      },
      "outputs": [
        {
          "output_type": "stream",
          "name": "stdout",
          "text": [
            "Collecting dionysus\n",
            "  Downloading dionysus-2.0.10-cp311-cp311-manylinux_2_34_x86_64.manylinux_2_35_x86_64.whl.metadata (4.6 kB)\n",
            "Downloading dionysus-2.0.10-cp311-cp311-manylinux_2_34_x86_64.manylinux_2_35_x86_64.whl (449 kB)\n",
            "\u001b[2K   \u001b[90m━━━━━━━━━━━━━━━━━━━━━━━━━━━━━━━━━━━━━━━━\u001b[0m \u001b[32m449.6/449.6 kB\u001b[0m \u001b[31m6.7 MB/s\u001b[0m eta \u001b[36m0:00:00\u001b[0m\n",
            "\u001b[?25hInstalling collected packages: dionysus\n",
            "Successfully installed dionysus-2.0.10\n"
          ]
        }
      ],
      "source": [
        "!pip install dionysus\n",
        "!pip install persim"
      ]
    },
    {
      "cell_type": "code",
      "execution_count": null,
      "metadata": {
        "id": "KSCfsHegqOvq"
      },
      "outputs": [],
      "source": [
        "import dionysus as d\n",
        "import numpy as np\n",
        "import networkx as nx\n",
        "import pandas as pd\n",
        "import matplotlib.pyplot as plt\n",
        "import math"
      ]
    },
    {
      "cell_type": "code",
      "execution_count": null,
      "metadata": {
        "id": "9NeOCxuQK6Mj"
      },
      "outputs": [],
      "source": [
        "from typing import List, Tuple\n",
        "\n",
        "\n",
        "def cohomology_persistence(f: d._dionysus.Filtration, prime: int = 2) -> Tuple[d._dionysus.CohomologyPersistence, List]:\n",
        "  p = d.cohomology_persistence(f, prime, True) #The returned object stores the\n",
        "  #persistence pairs as well as the cocycles still alive at the end of the\n",
        "  # filtration (i.e., a basis for H^*(K_n))\n",
        "  dgms = d.init_diagrams(p, f)\n",
        "  return (p, dgms)\n",
        "\n",
        "def compute_annotated_barcodes(dgms: List, p: d._dionysus.CohomologyPersistence, k: int) -> Tuple[float, float, d._dionysus.CoChain]:\n",
        "  \"\"\"\n",
        "  Args:\n",
        "    dgms = persistence diagrams\n",
        "    p = cohomology persistence\n",
        "    k = dimension bound\n",
        "  Returns:\n",
        "    B_1_k (barcodes annotated by representative cocycles)\n",
        "  \"\"\"\n",
        "  annotated_barcodes = []\n",
        "\n",
        "  for dim in range(1, k+1):\n",
        "    for pt in dgms[dim]:\n",
        "      cocycle = p.cocycle(pt.data)\n",
        "      annotated_barcodes.append((pt.birth, pt.death, cocycle))\n",
        "\n",
        "  # sort annotated barcodes first in the increasing order of the death time\n",
        "  # and then in the increasing order of the birth time\n",
        "  annotated_barcodes.sort(key=lambda x: x[0])\n",
        "  annotated_barcodes.sort(key=lambda x: x[1])\n",
        "  return annotated_barcodes\n",
        "\n",
        "\n",
        "def compute_coboundary_matrix1(f):\n",
        "  boundary_matrix = np.zeros((len(f), len(f)))\n",
        "  for simplex in f:\n",
        "    if simplex.dimension() >= 1:\n",
        "      index_of_simplex = f.index(simplex)\n",
        "      for sb in simplex.boundary():\n",
        "        index_of_sb = f.index(sb)\n",
        "        boundary_matrix[index_of_sb, index_of_simplex] = 1\n",
        "\n",
        "  return np.transpose(boundary_matrix), boundary_matrix"
      ]
    },
    {
      "cell_type": "markdown",
      "metadata": {
        "id": "YOdtQErduba9"
      },
      "source": [
        "Note that we get $B_{[1,k]}$ directly from cohomology_persistence()."
      ]
    },
    {
      "cell_type": "markdown",
      "source": [
        "We now define the cup product computation at the cochain level (used on line 15 in Algorithm 2):"
      ],
      "metadata": {
        "id": "mHBnqyEZckbP"
      }
    },
    {
      "cell_type": "code",
      "execution_count": null,
      "metadata": {
        "id": "Izk9p8Jh7Nc1"
      },
      "outputs": [],
      "source": [
        "def cup_product(cocycle1: d._dionysus.CoChain, cocycle2: d._dionysus.CoChain, X: List) -> d._dionysus.CoChain:\n",
        "  \"\"\"\n",
        "  Compute the cup product of two cochains over Z_2\n",
        "  Args:\n",
        "    cocycle1: first cocycle\n",
        "    cocycle2: second cocycle\n",
        "    X: simplicial complex\n",
        "  \"\"\"\n",
        "  size_of_cocycle1 = len(cocycle1)\n",
        "  size_of_cocycle2 = len(cocycle2)\n",
        "  p = size_of_cocycle1 + size_of_cocycle2\n",
        "\n",
        "  # find max dim of simplex in X\n",
        "  simplicies_dims = [simplex.dimension() for simplex in X]\n",
        "  dim_X = max(simplicies_dims)\n",
        "\n",
        "  cocycle1_rep, cocycle2_rep = [], []\n",
        "  for i in range(2):\n",
        "    if i == 0:\n",
        "      cocycle = cocycle1\n",
        "    else:\n",
        "      cocycle = cocycle2\n",
        "\n",
        "    # extract chains that correspond to  cochains in the sum that gives cocycle\n",
        "    cochain_rep = []\n",
        "\n",
        "    for cochain in cocycle:\n",
        "      index_in_reversed = len(X) - 1 - cochain.index\n",
        "      chain = X[index_in_reversed]\n",
        "      chain_rep = [chain[i] for i in range(len(chain))]\n",
        "      cochain_rep.append(chain_rep) # list of lists\n",
        "    if i == 0:\n",
        "      cocycle1_rep = tuple(cochain_rep)\n",
        "    else:\n",
        "      cocycle2_rep = tuple(cochain_rep)\n",
        "\n",
        "  # compute the dimension of the cohomology group the cocycle belongs to\n",
        "  dim_of_cocycle1 = len(cocycle1_rep[0]) - 1\n",
        "  dim_of_cocycle2 = len(cocycle2_rep[0]) - 1\n",
        "\n",
        "  sigma_dim = dim_of_cocycle1 + dim_of_cocycle2\n",
        "  X_p = [simplex for simplex in X if simplex.dimension() == sigma_dim]\n",
        "\n",
        "  sigma = []\n",
        "  if dim_of_cocycle1 + dim_of_cocycle2 <= dim_X:\n",
        "    for i in range(size_of_cocycle1):\n",
        "      for j in range(size_of_cocycle2):\n",
        "\n",
        "        a, b = cocycle1_rep[i], cocycle2_rep[j]\n",
        "        new_a = a.copy()\n",
        "        if a[-1] == b[0]:\n",
        "          if len(b[1:]) > 0:\n",
        "            new_a = new_a + b[1:]\n",
        "          if d.Simplex(new_a) in X_p:\n",
        "            sigma.append(new_a)\n",
        "\n",
        "\n",
        "\n",
        "  return sigma, (cocycle1, cocycle1_rep), (cocycle2, cocycle2_rep)\n"
      ]
    },
    {
      "cell_type": "markdown",
      "source": [
        "We define a function to compute a vector representation of a cochain in $S^*$ (used on line 16)."
      ],
      "metadata": {
        "id": "Pr_UkmRmdQC6"
      }
    },
    {
      "cell_type": "code",
      "execution_count": null,
      "metadata": {
        "id": "ch59rF4UUgo9"
      },
      "outputs": [],
      "source": [
        "def vector_rep_of_cochain(sigma: List, S_star: List) -> np.array:\n",
        "    \"\"\"\n",
        "    Compute vector representation y of sigma in S_star, i.e find\n",
        "    y such that sigma = S_star \\dot y where y has 0 or 1 entries.\n",
        "    \"\"\"\n",
        "    y = np.zeros(len(S_star))\n",
        "    for i in range(len(S_star)):\n",
        "      if len(sigma) > 0:\n",
        "        for cochain in sigma:\n",
        "          if cochain == list(S_star[i]):\n",
        "            y[i] = 1\n",
        "    return y\n"
      ]
    },
    {
      "cell_type": "markdown",
      "source": [
        "Below is the main code for solving the coboundary condition problem (lines 19 and 22 in the algorithm):"
      ],
      "metadata": {
        "id": "VeoSGM7xdbVB"
      }
    },
    {
      "cell_type": "code",
      "source": [
        "def contains_nonzero(arr):\n",
        "    return np.any(arr != 0)\n",
        "\n",
        "def gf2_gaussian_elimination(A, b):\n",
        "    # Combine A and b into an augmented matrix\n",
        "    M = np.column_stack((A, b))\n",
        "    m, n = M.shape\n",
        "\n",
        "    # Forward elimination\n",
        "    for i in range(min(m, n - 1)):\n",
        "        # Find pivot\n",
        "        pivot_row = i\n",
        "        for j in range(i + 1, m):\n",
        "            if M[j, i] == 1:\n",
        "                pivot_row = j\n",
        "                break\n",
        "\n",
        "        # Swap rows if necessary\n",
        "        if pivot_row != i:\n",
        "            M[i], M[pivot_row] = M[pivot_row].copy(), M[i].copy()\n",
        "\n",
        "        # Eliminate below\n",
        "        for j in range(i + 1, m):\n",
        "            if M[j, i] == 1:\n",
        "                M[j] = np.logical_xor(M[j], M[i]).astype(int)\n",
        "\n",
        "    # Back substitution\n",
        "    x = np.zeros(n - 1, dtype=int)\n",
        "    for i in range(m - 1, -1, -1):\n",
        "        if M[i, i] == 1:\n",
        "            x[i] = M[i, -1]\n",
        "            for j in range(i + 1, n - 1):\n",
        "                x[i] ^= (M[i, j] & x[j])\n",
        "        elif np.any(M[i, i+1:-1]) or M[i, -1] == 1:\n",
        "            return False, None  # No solution\n",
        "\n",
        "    # Check if solution is valid\n",
        "    if np.array_equal(np.dot(A, x) % 2, b):\n",
        "        return True, x\n",
        "    else:\n",
        "        return False, None\n",
        "\n",
        "def has_binary_solution(A, b):\n",
        "    # Check if A and b contain only 0 and 1\n",
        "    if not np.all(np.logical_or(A == 0, A == 1)) or not np.all(np.logical_or(b == 0, b == 1)):\n",
        "        raise ValueError(\"A and b must contain only 0 and 1\")\n",
        "\n",
        "    return gf2_gaussian_elimination(A, b)\n",
        "\n",
        "\n",
        "def convert_to_int_if_not_inf(number):\n",
        "    if not math.isinf(number):\n",
        "        return int(number)\n",
        "    return number"
      ],
      "metadata": {
        "id": "hkX6qMjbMwVj"
      },
      "execution_count": null,
      "outputs": []
    },
    {
      "cell_type": "markdown",
      "source": [
        "Finally, we are ready to implement our persistent cup length algorithm for simplexwise filtrations:"
      ],
      "metadata": {
        "id": "7gfzpFyjd4KG"
      }
    },
    {
      "cell_type": "code",
      "source": [
        "def compute_persistent_cup_length_2(k: int, S_star: List[d._dionysus.Simplex], R: np.array, B_1_k: List[Tuple[float, float, d._dionysus.CoChain]]) -> Tuple[np.array, List[int], List[int]]:\n",
        "\n",
        "  \"\"\"\n",
        "  Args:\n",
        "    k: dimension bound\n",
        "    S_star: the ordered list of cosimplices from dimension 1 to k+1\n",
        "    R: coboundary matrix R from dimension 0 to k\n",
        "    B_1_k: barcodes (b_sigma, d_sigma, sigma) annotated by representative\n",
        "    cocycles, from dimension 1 to k.  (sigma_1,...,sigma_q1) is ordered first\n",
        "    in the increasing order of the death time and then in the increasing order\n",
        "    of the birth time.\n",
        "  Return: a matrix representation of the persistent cup-length-diagram, and\n",
        "  the lists of distinct birth times b_time and death times d_time\n",
        "  \"\"\"\n",
        "\n",
        "  counter = 0\n",
        "  #B_1_k looks like [(pt1, cocycle1), (pt2, cocycle2)]\n",
        "  b_time = list(np.arange(len(S_star)))\n",
        "  d_time = list(np.arange(len(S_star)))\n",
        "  d_time.append(math.inf)\n",
        "\n",
        "  #positive_dim_simplices = [simplex for simplex in S_star if simplex.dimension() > 0]\n",
        "  m_k, l, B_1 = len(S_star), 1, B_1_k # m_k is the number of simplices with positive dimension in the (k + 1)-skeleton Xk+1 of X\n",
        "  A_0 = np.zeros((len(b_time), len(d_time)))\n",
        "  A_1 = np.zeros((len(b_time), len(d_time)))\n",
        "  A = [A_0, A_1]\n",
        "  R = R.astype(int)\n",
        "\n",
        "  B = [[], B_1]\n",
        "\n",
        "  b_d_times = [(convert_to_int_if_not_inf(elt[0]), convert_to_int_if_not_inf(elt[1])) for elt in B_1]\n",
        "\n",
        "  for i in range(len(b_time)):\n",
        "    for j in range(len(d_time)):\n",
        "      if (b_time[i], d_time[j]) in b_d_times:\n",
        "\n",
        "        A_1[i,j] = 1\n",
        "  A[1] = A_1\n",
        "\n",
        "  while ((not np.array_equal(A[l-1], A[l])) and (l <= k-1)):\n",
        "    A.append(A_1.copy())\n",
        "\n",
        "    B_l_plus_1 = []\n",
        "    B.append(B_l_plus_1)\n",
        "    for barcode_1 in B[1]:\n",
        "      for barcode_2 in B[l]:\n",
        "        sigma, sigma1, sigma2 = cup_product(barcode_1[2], barcode_2[2], S_star)\n",
        "\n",
        "        y = vector_rep_of_cochain(sigma, S_star).astype(int)[::-1]\n",
        "\n",
        "        if contains_nonzero(y):\n",
        "\n",
        "          if not math.isinf(min(barcode_1[1], barcode_2[1])):\n",
        "            d_min = int(min(barcode_1[1], barcode_2[1]))\n",
        "          else:\n",
        "            d_min = len(S_star)+1\n",
        "          if (has_binary_solution(R[:d_min, :d_min], y[:d_min])[0] == False):\n",
        "\n",
        "            i_primes = [i for i in range(len(b_time)) if b_time[i] <= min(barcode_1[1], barcode_2[1])]\n",
        "            i = max(i_primes)\n",
        "\n",
        "            s_i = 0 # number of simplices alive at b_i (line 13)\n",
        "            for simplex in S_star:\n",
        "              if simplex.data <= b_time[i]:\n",
        "                s_i += 1\n",
        "\n",
        "\n",
        "            while (has_binary_solution(R[:s_i, :s_i], y[:s_i])[0] == False):\n",
        "\n",
        "                if i == 0:\n",
        "                  break\n",
        "\n",
        "                i = i-1\n",
        "\n",
        "                s_i = 0\n",
        "                for simplex in S_star:\n",
        "                    if simplex.data <= b_time[i]:\n",
        "                      s_i += 1\n",
        "\n",
        "                if contains_nonzero(y[:s_i]) == False:\n",
        "                  break\n",
        "\n",
        "\n",
        "            if (b_time[i] < min(barcode_1[1], barcode_2[1])):\n",
        "                B[l+1].append((b_time[i],  min(barcode_1[1], barcode_2[1]), sigma))\n",
        "                j1, j2 = d_time.index(convert_to_int_if_not_inf(barcode_1[1])), convert_to_int_if_not_inf(d_time.index(barcode_2[1]))\n",
        "                A[l+1][i, min(j1, j2)] = l + 1\n",
        "\n",
        "    l = l+1\n",
        "  return (A[l], b_time, d_time)"
      ],
      "metadata": {
        "id": "VMOOulYC-5oY"
      },
      "execution_count": null,
      "outputs": []
    },
    {
      "cell_type": "markdown",
      "source": [
        "# Custom torus filtration (54 filtration times)"
      ],
      "metadata": {
        "id": "LWO610OxwY_O"
      }
    },
    {
      "cell_type": "markdown",
      "source": [
        "We now test our algorithm on a custom filtration of the torus with 52 simplices added one at a time. Here is a visualization of the filtration: https://drive.google.com/file/d/1lhwYBBIXPZPgjOPl6H9wTvv_B2ww5jJa/view?usp=sharing\n",
        "\n",
        "We output the persistent cup-length matrix:"
      ],
      "metadata": {
        "id": "Br0qNTCaeRtA"
      }
    },
    {
      "cell_type": "code",
      "source": [
        "from persim import plot_diagrams\n",
        "\n",
        "\n",
        "simplices = [([1], 1), ([2], 2), ([3], 3),([4], 4),   ([5], 5), ([6], 6), ([7], 7), ([8], 8), ([9], 9),\n",
        "             ([1,2], 10), ([1,4], 11), ([2, 3], 12), ([1, 3], 13),  ([4, 7], 14), ([1, 7], 15), ([4, 5], 16),\n",
        "             ([5, 6], 17), ([4, 6], 18), ([7, 8], 19), ([8, 9], 20), ([7, 9], 21), ([2, 5], 22), ([3, 6], 23),\n",
        "             ([5, 8], 24), ([6, 9], 25), ([2, 8], 26), ([3, 9], 27), ([2,4], 28), ([3, 5], 29), ([1, 6], 30),\n",
        "             ([5, 7], 31), ([6, 8], 32), ([4, 9], 33), ([1, 8], 34), ([2,9], 35), ([3,7], 36), ([1,2,4], 37), ([2,3,5], 38),\n",
        "             ([1,3,6], 39), ([2,4,5], 40), ([3,5,6], 41), ([1,4,6], 42), ([4,5,7], 43), ([5,6,8], 44), ([4,6,9], 45),\n",
        "             ([5,7,8], 46), ([6,8,9], 47), ([4,7,9], 48), ([1,7,8], 49), ([2,8,9], 50), ([3,7,9], 51), ([1,2,8], 52), ([2,3,9], 53), ([1,3,7], 54)]\n",
        "simplices = [(t[0], t[1] - 1) for t in simplices]\n",
        "\n",
        "k = 1 #dimension bound\n",
        "\n",
        "# create filtration truncated at k+1\n",
        "f = d.Filtration()\n",
        "for vertices, time in simplices:\n",
        "  if d.Simplex(vertices, time).dimension() <= k+1:\n",
        "    f.append(d.Simplex(vertices, time))\n",
        "f.sort()\n",
        "\n",
        "t = d.homology_persistence(f)\n",
        "\n",
        "diagrams = d.init_diagrams(t, f)\n",
        "\n",
        "# Convert Dionysus diagrams to numpy arrays for persim\n",
        "persim_diagrams = []\n",
        "for diagram in diagrams:\n",
        "    points = [[pt.birth, pt.death] for pt in diagram]\n",
        "    persim_diagrams.append(np.array(points))\n",
        "\n",
        "# Plot the persistence diagrams using persim\n",
        "plot_diagrams(persim_diagrams, show=True)\n",
        "my_torus_filtration = f"
      ],
      "metadata": {
        "colab": {
          "base_uri": "https://localhost:8080/",
          "height": 449
        },
        "id": "-oEPIo8twaJk",
        "outputId": "3651c6f5-c7fd-4fae-acf0-d8653201ecd0"
      },
      "execution_count": null,
      "outputs": [
        {
          "output_type": "display_data",
          "data": {
            "text/plain": [
              "<Figure size 640x480 with 1 Axes>"
            ],
            "image/png": "[encoded data removed]"
          },
          "metadata": {}
        }
      ]
    },
    {
      "cell_type": "code",
      "source": [
        "#compute annotated barcodes\n",
        "k=2\n",
        "\n",
        "p, dgms = cohomology_persistence(my_torus_filtration)\n",
        "annotated_barcodes = compute_annotated_barcodes(dgms, p, k)\n",
        "\n",
        "#compute coboundary matrix\n",
        "coboundary_matrix, boundary_matrix = compute_coboundary_matrix1(my_torus_filtration) # coboundary matrix from dimension 0 to k\n",
        "\n",
        "# Create S^*\n",
        "S_star = list(my_torus_filtration)\n",
        "S_star.reverse()\n",
        "\n",
        "#(persistent_cup_length_matrix, A_1, b_times, d_times) = compute_persistent_cup_length(k, S_star, R, annotated_barcodes)\n",
        "(persistent_cup_length_matrix, b_times, d_times) = compute_persistent_cup_length_2(k, S_star, coboundary_matrix, annotated_barcodes)\n",
        "print('Persistent cup-length matrix: ', persistent_cup_length_matrix)"
      ],
      "metadata": {
        "colab": {
          "base_uri": "https://localhost:8080/"
        },
        "id": "CE4cahveAeXv",
        "outputId": "8ae1b7ed-53f2-4d18-8985-264ae819ebf6"
      },
      "execution_count": null,
      "outputs": [
        {
          "output_type": "stream",
          "name": "stdout",
          "text": [
            "Persistent cup-length matrix:  [[0. 0. 0. ... 0. 0. 0.]\n",
            " [0. 0. 0. ... 0. 0. 0.]\n",
            " [0. 0. 0. ... 0. 0. 0.]\n",
            " ...\n",
            " [0. 0. 0. ... 0. 0. 0.]\n",
            " [0. 0. 0. ... 0. 0. 2.]\n",
            " [0. 0. 0. ... 0. 0. 1.]]\n"
          ]
        }
      ]
    },
    {
      "cell_type": "code",
      "source": [
        "plt.imshow(persistent_cup_length_matrix)"
      ],
      "metadata": {
        "id": "5tsFvx_x3nZs",
        "colab": {
          "base_uri": "https://localhost:8080/",
          "height": 449
        },
        "outputId": "a7a584c7-4d47-4f77-fd15-d2bb92b9f3d1"
      },
      "execution_count": null,
      "outputs": [
        {
          "output_type": "execute_result",
          "data": {
            "text/plain": [
              "<matplotlib.image.AxesImage at 0x7ea8065a5dd0>"
            ]
          },
          "metadata": {},
          "execution_count": 25
        },
        {
          "output_type": "display_data",
          "data": {
            "text/plain": [
              "<Figure size 640x480 with 1 Axes>"
            ],
            "image/png": "[encoded data removed]"
          },
          "metadata": {}
        }
      ]
    },
    {
      "cell_type": "markdown",
      "source": [
        "# Custom torus filtration (3 filtration times)"
      ],
      "metadata": {
        "id": "Fa6VmKp79VFq"
      }
    },
    {
      "cell_type": "markdown",
      "source": [
        "We now use the same torus filtration as above but with filtration values 0, 1, and 2. We compute the persistent cup-length matrix and output a matrix that represents the cup-length function:"
      ],
      "metadata": {
        "id": "tAqG1Q1w9ogc"
      }
    },
    {
      "cell_type": "code",
      "source": [
        "from persim import plot_diagrams\n",
        "\n",
        "\n",
        "simplices = [([1], 0), ([2], 0), ([3], 0),([4], 0),   ([5], 0), ([6], 0), ([7], 0), ([8], 0), ([9], 0),\n",
        "             ([1,2], 1), ([1,4], 1), ([2, 3], 1), ([1, 3], 1),  ([4, 7], 1), ([1, 7], 1), ([4, 5], 1),\n",
        "             ([5, 6], 1), ([4, 6], 1), ([7, 8], 1), ([8, 9], 1), ([7, 9], 1), ([2, 5], 1), ([3, 6], 1),\n",
        "             ([5, 8], 1), ([6, 9], 1), ([2, 8], 1), ([3, 9], 1), ([2,4], 1), ([3, 5], 1), ([1, 6], 1),\n",
        "             ([5, 7], 1), ([6, 8], 1), ([4, 9], 1), ([1, 8], 1), ([2,9], 1), ([3,7], 1), ([1,2,4], 2), ([2,3,5], 2),\n",
        "             ([1,3,6], 2), ([2,4,5], 2), ([3,5,6], 2), ([1,4,6], 2), ([4,5,7], 2), ([5,6,8], 2), ([4,6,9], 2),\n",
        "             ([5,7,8], 2), ([6,8,9], 2), ([4,7,9], 2), ([1,7,8], 2), ([2,8,9], 2), ([3,7,9], 2), ([1,2,8], 2), ([2,3,9], 2), ([1,3,7], 2)]\n",
        "\n",
        "k = 1 #dimension bound\n",
        "\n",
        "# create filtration truncated at k+1\n",
        "f = d.Filtration()\n",
        "for vertices, time in simplices:\n",
        "  if d.Simplex(vertices, time).dimension() <= k+1:\n",
        "    f.append(d.Simplex(vertices, time))\n",
        "f.sort()\n",
        "\n",
        "t = d.homology_persistence(f)\n",
        "\n",
        "dgms = d.init_diagrams(t, f)\n",
        "\n",
        "\n",
        "# Convert Dionysus diagrams to numpy arrays for persim\n",
        "persim_diagrams = []\n",
        "for diagram in dgms:\n",
        "    points = [[pt.birth, pt.death] for pt in diagram]\n",
        "    persim_diagrams.append(np.array(points))\n",
        "\n",
        "# Plot the persistence diagrams using persim\n",
        "plot_diagrams(persim_diagrams, show=True)\n",
        "my_torus_filtration = f"
      ],
      "metadata": {
        "id": "JQ4vfkES9agY",
        "colab": {
          "base_uri": "https://localhost:8080/",
          "height": 449
        },
        "outputId": "7fb30106-1543-4b15-e00a-e0f206b9f112"
      },
      "execution_count": null,
      "outputs": [
        {
          "output_type": "display_data",
          "data": {
            "text/plain": [
              "<Figure size 640x480 with 1 Axes>"
            ],
            "image/png": "[encoded data removed]"
          },
          "metadata": {}
        }
      ]
    },
    {
      "cell_type": "markdown",
      "source": [
        "Below are some helper functions to obtain the persistent cup-length function from the persistent cup-length matrix:"
      ],
      "metadata": {
        "id": "YGuu2HJthBr1"
      }
    },
    {
      "cell_type": "code",
      "source": [
        "def create_simplexwise_filtration(f):\n",
        "  new_filtration = d.Filtration()\n",
        "  for simplex in f:\n",
        "    vertices = list(simplex)\n",
        "    new_filtration.append(d.Simplex(vertices, f.index(simplex)))\n",
        "\n",
        "  new_filtration.sort()\n",
        "  return new_filtration\n",
        "\n",
        "def convert_indices_to_filtration_times(indices: List, original_filtration: d._dionysus.Filtration) -> List:\n",
        "  \"\"\"\n",
        "  takes in indices of simplices in a filtration and returns its filtration values\"\"\"\n",
        "  filtration_values = []\n",
        "  for index in indices:\n",
        "    simplex = original_filtration[index]\n",
        "    filtration_values.append(simplex.data)\n",
        "  return list(set(filtration_values))\n",
        "\n",
        "\n",
        "def convert_filtration_time_to_indices(filtration_time: float, original_filtration: d._dionysus.Filtration) -> List:\n",
        "  \"\"\"\n",
        "  takes in filtration time and returns indices of simplices that have that filtration time\n",
        "  if filtration time is inf, return len(original_filtration), i.e. we added an extra index for inf\n",
        "  \"\"\"\n",
        "  indices = []\n",
        "  if filtration_time != math.inf:\n",
        "    for simplex in original_filtration:\n",
        "      if simplex.data == filtration_time:\n",
        "        indices.append(f.index(simplex))\n",
        "  else:\n",
        "    return [len(original_filtration)]\n",
        "  return indices\n",
        "\n",
        "def shrink_cup_length_matrix(persistent_cup_length_matrix: np.array, my_torus_filtration: d._dionysus.Filtration) -> np.array:\n",
        "  # get all unique filtration times\n",
        "  filtration_times = convert_indices_to_filtration_times(list(np.arange(len(my_torus_filtration))), my_torus_filtration)\n",
        "  filtration_times.append(math.inf)\n",
        "\n",
        "  shrinked_cup_length_matrix = np.zeros((len(filtration_times)-1, len(filtration_times)))\n",
        "\n",
        "  for i in range(len(filtration_times)-1):\n",
        "    for j in range(i, len(filtration_times)):\n",
        "      b_time_indices = np.array(convert_filtration_time_to_indices(filtration_times[i], my_torus_filtration))\n",
        "      d_time_indices = convert_filtration_time_to_indices(filtration_times[j], my_torus_filtration)\n",
        "\n",
        "      # select elements of persistent_cup_length_matrix whose birth is in b_time_indices and whose death is in d_time_indices\n",
        "      selected_elements = np.array(persistent_cup_length_matrix[b_time_indices[:, np.newaxis], d_time_indices])\n",
        "\n",
        "      # take max out of all these cup lengths\n",
        "      cup_length = np.max(selected_elements)\n",
        "\n",
        "      # update the \"shrinked\" cup length matrix (where filtration values from original filrtation are the row indices and\n",
        "      # the filtration values from original filtration plus inf are the column indices)\n",
        "      shrinked_cup_length_matrix[i,j] = cup_length\n",
        "  return shrinked_cup_length_matrix\n",
        "\n",
        "\n",
        "def create_max_matrix(original_matrix: np.array) -> np.array:\n",
        "    \"\"\"\n",
        "    Create a new matrix where each (i,j) element is the maximum of all elements\n",
        "    in the original matrix with column index >= j and row index <= i.\n",
        "\n",
        "    Parameters:\n",
        "    original_matrix (np.ndarray): The input 2D NumPy array\n",
        "\n",
        "    Returns:\n",
        "    np.ndarray: A new matrix of the same shape as the original\n",
        "    \"\"\"\n",
        "    rows, cols = original_matrix.shape\n",
        "    new_matrix = np.zeros_like(original_matrix, dtype=float)\n",
        "\n",
        "    for i in range(rows):\n",
        "        for j in range(i, cols):  # Start j from i to only consider j >= i\n",
        "            # Select the submatrix: columns >= j, rows <= i\n",
        "            submatrix = original_matrix[:i+1, j:]\n",
        "            # Set the (i,j) element to the maximum of the submatrix\n",
        "            new_matrix[i, j] = np.max(submatrix)\n",
        "\n",
        "    return new_matrix\n"
      ],
      "metadata": {
        "id": "s12qORd0Ajob"
      },
      "execution_count": null,
      "outputs": []
    },
    {
      "cell_type": "code",
      "source": [
        "# create simplexwise filtration\n",
        "simplexwise_filtration = create_simplexwise_filtration(my_torus_filtration)\n",
        "\n",
        "#compute annotated barcodes\n",
        "k=2\n",
        "\n",
        "p, dgms = cohomology_persistence(simplexwise_filtration)\n",
        "annotated_barcodes = compute_annotated_barcodes(dgms, p, k)\n",
        "\n",
        "#compute coboundary matrix\n",
        "coboundary_matrix, boundary_matrix = compute_coboundary_matrix1(simplexwise_filtration) # coboundary matrix from dimension 0 to k\n",
        "\n",
        "\n",
        "# Create S^*\n",
        "S_star = list(simplexwise_filtration)\n",
        "S_star.reverse()\n",
        "\n",
        "#(persistent_cup_length_matrix, A_1, b_times, d_times) = compute_persistent_cup_length(k, S_star, R, annotated_barcodes)\n",
        "(persistent_cup_length_matrix,  b_times, d_times) = compute_persistent_cup_length_2(k, S_star, coboundary_matrix, annotated_barcodes)\n",
        "\n",
        "\n",
        "# convert persistent cup-length matrix to persistent cup-length function matrix:\n",
        "shrinked_cup_length_matrix = shrink_cup_length_matrix(persistent_cup_length_matrix, my_torus_filtration)\n",
        "cup_length_function_matrix = create_max_matrix(shrinked_cup_length_matrix)\n",
        "print('Cup-length function matrix: ', cup_length_function_matrix)"
      ],
      "metadata": {
        "id": "s6ApR3afDINF",
        "colab": {
          "base_uri": "https://localhost:8080/"
        },
        "outputId": "0ce5938e-53ae-4381-de9e-2bb70458fd67"
      },
      "execution_count": null,
      "outputs": [
        {
          "output_type": "stream",
          "name": "stdout",
          "text": [
            "Cup-length function matrix:  [[0. 0. 0. 0.]\n",
            " [0. 1. 1. 1.]\n",
            " [0. 0. 2. 2.]]\n"
          ]
        }
      ]
    }
  ],
  "metadata": {
    "colab": {
      "provenance": [],
      "toc_visible": true
    },
    "kernelspec": {
      "display_name": "Python 3",
      "name": "python3"
    },
    "language_info": {
      "name": "python"
    }
  },
  "nbformat": 4,
  "nbformat_minor": 0
}